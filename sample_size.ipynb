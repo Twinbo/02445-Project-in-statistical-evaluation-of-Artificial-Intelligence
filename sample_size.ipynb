{
 "cells": [
  {
   "cell_type": "code",
   "execution_count": 1,
   "id": "e4072ca6",
   "metadata": {},
   "outputs": [],
   "source": [
    "import numpy as np"
   ]
  },
  {
   "cell_type": "code",
   "execution_count": 8,
   "id": "4bcda97f",
   "metadata": {},
   "outputs": [],
   "source": [
    "p_right = 90/132\n",
    "p_left = 13/132\n",
    "p_neutralt = 53/132"
   ]
  },
  {
   "cell_type": "code",
   "execution_count": 11,
   "id": "c2eadb94",
   "metadata": {},
   "outputs": [
    {
     "data": {
      "text/plain": [
       "0.040540117500720216"
      ]
     },
     "metadata": {},
     "output_type": "display_data"
    },
    {
     "data": {
      "text/plain": [
       "0.025934881025684326"
      ]
     },
     "metadata": {},
     "output_type": "display_data"
    },
    {
     "data": {
      "text/plain": [
       "0.0426668502557825"
      ]
     },
     "metadata": {},
     "output_type": "display_data"
    }
   ],
   "source": [
    "std_p_right = np.sqrt((p_right*(1-p_right))/132)\n",
    "std_p_left = np.sqrt((p_left*(1-p_left))/132)\n",
    "std_p_neutralt = np.sqrt((p_neutralt*(1-p_neutralt))/132)\n",
    "display(std_p_right,std_p_left,std_p_neutralt)"
   ]
  },
  {
   "cell_type": "code",
   "execution_count": 18,
   "id": "7b841870",
   "metadata": {},
   "outputs": [
    {
     "data": {
      "text/plain": [
       "369.25572084481166"
      ]
     },
     "execution_count": 18,
     "metadata": {},
     "output_type": "execute_result"
    }
   ],
   "source": [
    "n_v2 = (1.96**2)*((p_neutralt*(1-p_neutralt))/0.05**2)\n",
    "n_v2"
   ]
  },
  {
   "cell_type": "code",
   "execution_count": null,
   "id": "0c73a27e",
   "metadata": {},
   "outputs": [],
   "source": []
  }
 ],
 "metadata": {
  "kernelspec": {
   "display_name": "base",
   "language": "python",
   "name": "python3"
  },
  "language_info": {
   "codemirror_mode": {
    "name": "ipython",
    "version": 3
   },
   "file_extension": ".py",
   "mimetype": "text/x-python",
   "name": "python",
   "nbconvert_exporter": "python",
   "pygments_lexer": "ipython3",
   "version": "3.12.3"
  }
 },
 "nbformat": 4,
 "nbformat_minor": 5
}
